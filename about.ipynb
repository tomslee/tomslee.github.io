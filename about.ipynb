{
  "cells": [
    {
      "cell_type": "raw",
      "metadata": {},
      "source": [
        "---\n",
        "title: \"About Tom Slee\"\n",
        "about: \n",
        "  template: trestles\n",
        "execute:\n",
        "  echo: false\n",
        "---"
      ],
      "id": "18bb74c2"
    },
    {
      "cell_type": "markdown",
      "metadata": {},
      "source": [
        "Professional product manager by day, amateur writer and data analyst by night.\n",
        "\n",
        "## Self promotion\n",
        "\n",
        "-   [Resume](about/2021-12-12_resume/index.qmd \"Resume\")\n",
        "\n",
        "-   [Publications and media](about/2021-12-10-publications/index.qmd \"Publications and media\")\n",
        "\n",
        "## Location\n",
        "\n",
        "I live in Kitchener-Waterloo, Ontario, which is also home to *Thomas Slee Drive* and *Thomas Slee Park*. Sadly, the names are just a very unlikely coincidence.\n"
      ],
      "id": "b8a1c294"
    },
    {
      "cell_type": "code",
      "metadata": {},
      "source": [
        "from ipyleaflet import Map\n",
        "m = Map(center=(43.37456, -80.43575),zoom=17)\n",
        "m"
      ],
      "id": "9f2f8414",
      "execution_count": null,
      "outputs": []
    },
    {
      "cell_type": "markdown",
      "metadata": {},
      "source": [
        "## Contact\n",
        "\n",
        "tom\\@tomslee.net"
      ],
      "id": "88176fa0"
    }
  ],
  "metadata": {
    "kernelspec": {
      "name": "python3",
      "language": "python",
      "display_name": "Python 3"
    }
  },
  "nbformat": 4,
  "nbformat_minor": 5
}